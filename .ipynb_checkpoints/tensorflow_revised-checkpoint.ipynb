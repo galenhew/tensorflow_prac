{
 "cells": [
  {
   "cell_type": "markdown",
   "id": "4686d7de",
   "metadata": {},
   "source": [
    "## Setup"
   ]
  },
  {
   "cell_type": "code",
   "execution_count": null,
   "id": "2190242a",
   "metadata": {},
   "outputs": [],
   "source": [
    "! python3 -m virtualenv env"
   ]
  },
  {
   "cell_type": "code",
   "execution_count": null,
   "id": "47ef4b2b",
   "metadata": {},
   "outputs": [],
   "source": [
    "! source env/bin/activate"
   ]
  },
  {
   "cell_type": "code",
   "execution_count": null,
   "id": "f1401d20",
   "metadata": {},
   "outputs": [],
   "source": [
    "! pip3 install tensorflow==2.2"
   ]
  },
  {
   "cell_type": "code",
   "execution_count": null,
   "id": "18582fe6",
   "metadata": {},
   "outputs": [],
   "source": [
    "! pip install jupyter notebook"
   ]
  },
  {
   "cell_type": "code",
   "execution_count": null,
   "id": "99f7d578",
   "metadata": {},
   "outputs": [],
   "source": [
    "git clone https://github.com/cloudacademy/aiplatform-intro.git"
   ]
  },
  {
   "cell_type": "code",
   "execution_count": null,
   "id": "22ee0aef",
   "metadata": {},
   "outputs": [],
   "source": [
    "cd aiplatform-intro/iris/trainer"
   ]
  },
  {
   "cell_type": "markdown",
   "id": "41460560",
   "metadata": {},
   "source": [
    "## train data"
   ]
  },
  {
   "cell_type": "code",
   "execution_count": null,
   "id": "abc80ebb",
   "metadata": {},
   "outputs": [],
   "source": [
    "python3 iris.py --job-dir export"
   ]
  },
  {
   "cell_type": "markdown",
   "id": "8a17c2d2",
   "metadata": {},
   "source": [
    "output:\n",
    "\n",
    "4/4 - test data accuracy\n",
    "\n",
    "1/1 - train data accuracy (much less than test if overfit)"
   ]
  },
  {
   "cell_type": "markdown",
   "id": "49c0a425",
   "metadata": {},
   "source": [
    "## train locally"
   ]
  },
  {
   "cell_type": "markdown",
   "id": "634a9b83",
   "metadata": {},
   "source": [
    "go into parent path of where traning script(iris.py) is (not trainer folder) \n",
    "- tensorflow1/aiplatform-intro/iris/trainer/iris.py\n",
    "\n",
    "cd aiplatform-intro/iris"
   ]
  },
  {
   "cell_type": "markdown",
   "id": "ea2ab3f0",
   "metadata": {},
   "source": [
    "- local \n",
    "    - to train locally\n",
    "- module-name: trainer.iris \n",
    "    - trainer is folder\n",
    "    - iris.py, but drop the .py\n",
    "- job-dir\n",
    "    - the folder that has the results (export folder). in current directory"
   ]
  },
  {
   "cell_type": "code",
   "execution_count": null,
   "id": "d29f0864",
   "metadata": {},
   "outputs": [],
   "source": [
    "! gcloud ai-platform local train --module-name trainer.iris --package-path trainer --job-dir export"
   ]
  },
  {
   "cell_type": "markdown",
   "id": "b50b8c0b",
   "metadata": {},
   "source": [
    "## install GCP SDK"
   ]
  },
  {
   "cell_type": "markdown",
   "id": "86cbfc3a",
   "metadata": {},
   "source": [
    "https://cloud.google.com/sdk/docs/install#deb"
   ]
  },
  {
   "cell_type": "markdown",
   "id": "308464b5",
   "metadata": {},
   "source": [
    "## setup GCP"
   ]
  },
  {
   "cell_type": "code",
   "execution_count": 18,
   "id": "bc00cee3",
   "metadata": {},
   "outputs": [
    {
     "name": "stdout",
     "output_type": "stream",
     "text": [
      "PROJECT_ID              NAME            PROJECT_NUMBER\n",
      "graceful-smithy-315106  va-google-auth  349991753941\n",
      "keras1-316117           keras1          646436777927\n",
      "stoked-aloe-316710      tensorflow2     683223887003\n"
     ]
    }
   ],
   "source": [
    "# see list of projects\n",
    "! gcloud projects list"
   ]
  },
  {
   "cell_type": "code",
   "execution_count": 9,
   "id": "60ed6d9d",
   "metadata": {},
   "outputs": [
    {
     "name": "stdout",
     "output_type": "stream",
     "text": [
      "stoked-aloe-316710\r\n"
     ]
    }
   ],
   "source": [
    "! gcloud config get-value project"
   ]
  },
  {
   "cell_type": "code",
   "execution_count": 10,
   "id": "5cb51852",
   "metadata": {},
   "outputs": [],
   "source": [
    "PROJECT_ID = 'stoked-aloe-316710'"
   ]
  },
  {
   "cell_type": "code",
   "execution_count": 11,
   "id": "8cf8d016",
   "metadata": {},
   "outputs": [
    {
     "name": "stdout",
     "output_type": "stream",
     "text": [
      "Updated property [core/project].\r\n"
     ]
    }
   ],
   "source": [
    "! gcloud config set project $PROJECT_ID"
   ]
  },
  {
   "cell_type": "code",
   "execution_count": 12,
   "id": "c330fe15",
   "metadata": {},
   "outputs": [
    {
     "name": "stdout",
     "output_type": "stream",
     "text": [
      "[core]\r\n",
      "project = stoked-aloe-316710\r\n",
      "\r\n",
      "Your active configuration is: [default]\r\n"
     ]
    }
   ],
   "source": [
    "# check default project_id\n",
    "! gcloud config list core/project"
   ]
  },
  {
   "cell_type": "markdown",
   "id": "d7b1a975",
   "metadata": {},
   "source": [
    "## bucket"
   ]
  },
  {
   "cell_type": "code",
   "execution_count": 18,
   "id": "00989ddf",
   "metadata": {},
   "outputs": [],
   "source": [
    "# BUCKET_NAME must be globally unique. thus add project_name in front of it  \n",
    "# exclude country name from region!! i.e. asia-southeast1 (Singapore)\n",
    "\n",
    "BUCKET_NAME= PROJECT_ID + '_bucket1'\n",
    "REGION= 'us-central1'\n",
    "BUCKET = 'gs://' + BUCKET_NAME"
   ]
  },
  {
   "cell_type": "code",
   "execution_count": 19,
   "id": "ecbe1ae8",
   "metadata": {},
   "outputs": [
    {
     "name": "stdout",
     "output_type": "stream",
     "text": [
      "Creating gs://stoked-aloe-316710_bucket1/...\r\n"
     ]
    }
   ],
   "source": [
    "# if not bucket made, make bucket via:\n",
    "! gsutil mb -l $REGION $BUCKET"
   ]
  },
  {
   "cell_type": "code",
   "execution_count": 1,
   "id": "1f8d1536",
   "metadata": {},
   "outputs": [
    {
     "name": "stdout",
     "output_type": "stream",
     "text": [
      "gs://stoked-aloe-316710_bucket1/\r\n"
     ]
    }
   ],
   "source": [
    "# to check if bucket created\n",
    "# https://cloud.google.com/storage/docs/gsutil/commands/ls\n",
    "! gsutil ls"
   ]
  },
  {
   "cell_type": "markdown",
   "id": "f1be2e22",
   "metadata": {},
   "source": [
    "## train model via ai platform"
   ]
  },
  {
   "cell_type": "code",
   "execution_count": 56,
   "id": "7663ff7b",
   "metadata": {},
   "outputs": [
    {
     "ename": "SyntaxError",
     "evalue": "invalid syntax (<ipython-input-56-992908956a87>, line 3)",
     "output_type": "error",
     "traceback": [
      "\u001b[0;36m  File \u001b[0;32m\"<ipython-input-56-992908956a87>\"\u001b[0;36m, line \u001b[0;32m3\u001b[0m\n\u001b[0;31m    gcloud auth login\u001b[0m\n\u001b[0m           ^\u001b[0m\n\u001b[0;31mSyntaxError\u001b[0m\u001b[0;31m:\u001b[0m invalid syntax\n"
     ]
    }
   ],
   "source": [
    "## auth on gcloud\n",
    "\n",
    "gcloud auth login"
   ]
  },
  {
   "cell_type": "markdown",
   "id": "d13a8a7f",
   "metadata": {},
   "source": [
    "to run tensorflow script on aiplatform, need to package it first.\n",
    "- have __init__.py file in folder"
   ]
  },
  {
   "cell_type": "code",
   "execution_count": 24,
   "id": "6b9e330a",
   "metadata": {},
   "outputs": [
    {
     "name": "stdout",
     "output_type": "stream",
     "text": [
      "061321_1103\n"
     ]
    }
   ],
   "source": [
    "from datetime import datetime\n",
    "dt= datetime.now()\n",
    "dt_str= dt.strftime('%m%d%y_%H%M')\n",
    "print(dt_str)"
   ]
  },
  {
   "cell_type": "code",
   "execution_count": 25,
   "id": "1b59a6c4",
   "metadata": {},
   "outputs": [],
   "source": [
    "# job_name cannot be repeated across jobs. use timestamp to make it unique\n",
    "JOB_NAME = 'iris1_' + dt_str\n",
    "JOB_DIR = 'gs://' + BUCKET_NAME + '/job1'"
   ]
  },
  {
   "cell_type": "code",
   "execution_count": 26,
   "id": "9676b271",
   "metadata": {},
   "outputs": [
    {
     "data": {
      "text/plain": [
       "'iris1_061321_1103'"
      ]
     },
     "execution_count": 26,
     "metadata": {},
     "output_type": "execute_result"
    }
   ],
   "source": [
    "JOB_NAME"
   ]
  },
  {
   "cell_type": "code",
   "execution_count": 27,
   "id": "baec8942",
   "metadata": {},
   "outputs": [
    {
     "data": {
      "text/plain": [
       "'/home/galen/Desktop/tensorflow2'"
      ]
     },
     "execution_count": 27,
     "metadata": {},
     "output_type": "execute_result"
    }
   ],
   "source": [
    "%pwd"
   ]
  },
  {
   "cell_type": "code",
   "execution_count": 28,
   "id": "b4212810",
   "metadata": {},
   "outputs": [
    {
     "name": "stdout",
     "output_type": "stream",
     "text": [
      "/home/galen/Desktop/tensorflow2/aiplatform-intro/iris\n"
     ]
    }
   ],
   "source": [
    "%cd aiplatform-intro/iris"
   ]
  },
  {
   "cell_type": "code",
   "execution_count": 30,
   "id": "a791601b",
   "metadata": {},
   "outputs": [
    {
     "name": "stdout",
     "output_type": "stream",
     "text": [
      "^C\r\n",
      "\r\n",
      "\r\n",
      "Command killed by keyboard interrupt\r\n",
      "\r\n"
     ]
    }
   ],
   "source": [
    "# run on terminal better monitoring\n",
    "\n",
    "!gcloud ai-platform jobs submit training $JOB_NAME  --module-name trainer.iris   --package-path trainer   --staging-bucket $BUCKET  --region $REGION  --python-version 3.7   --runtime-version 2.2   --job-dir $JOB_DIR "
   ]
  },
  {
   "cell_type": "code",
   "execution_count": null,
   "id": "8b986f33",
   "metadata": {},
   "outputs": [
    {
     "name": "stdout",
     "output_type": "stream",
     "text": [
      "                                 gs://stoked-aloe-316710_bucket1/iris1_061321_1103/\r\n"
     ]
    }
   ],
   "source": [
    "# see if job created\n",
    "! gsutil ls $BUCKET"
   ]
  },
  {
   "cell_type": "code",
   "execution_count": 55,
   "id": "30add960",
   "metadata": {},
   "outputs": [
    {
     "name": "stdout",
     "output_type": "stream",
     "text": [
      "createTime: '2021-06-12T20:33:44Z'\r\n",
      "endTime: '2021-06-12T20:41:49Z'\r\n",
      "etag: DOMtBVi7g68=\r\n",
      "jobId: iris1_061221_1924\r\n",
      "startTime: '2021-06-12T20:39:17Z'\r\n",
      "state: SUCCEEDED\r\n",
      "trainingInput:\r\n",
      "  jobDir: gs://keras1-316117_bucket1/job1\r\n",
      "  packageUris:\r\n",
      "  - gs://keras1-316117_bucket1/iris1_061221_1924/827c1b4382400915233bf183725708023f8636e5f988d42b6431194ebe23e75b/trainer-0.0.0.tar.gz\r\n",
      "  pythonModule: trainer.iris\r\n",
      "  pythonVersion: '3.7'\r\n",
      "  region: asia-southeast1\r\n",
      "  runtimeVersion: '2.2'\r\n",
      "trainingOutput:\r\n",
      "  consumedMLUnits: 0.07\r\n",
      "\r\n",
      "View job in the Cloud Console at:\r\n",
      "https://console.cloud.google.com/mlengine/jobs/iris1_061221_1924?project=keras1-316117\r\n",
      "\r\n",
      "View logs at:\r\n",
      "https://console.cloud.google.com/logs?resource=ml_job%2Fjob_id%2Firis1_061221_1924&project=keras1-316117\r\n"
     ]
    }
   ],
   "source": [
    "# get info about running job: ran after completion. can see completion in log 'task completed'\n",
    "! gcloud ai-platform jobs describe iris1_061221_1924"
   ]
  },
  {
   "cell_type": "markdown",
   "id": "8a3115ce",
   "metadata": {},
   "source": [
    "### terminal-only method to do all above"
   ]
  },
  {
   "cell_type": "code",
   "execution_count": 2,
   "id": "48b9b788",
   "metadata": {},
   "outputs": [
    {
     "name": "stdout",
     "output_type": "stream",
     "text": [
      "CommandException: Incorrect option(s) specified. Usage:\r\n",
      "\r\n",
      "  gsutil mb [-b (on|off)] [-c <class>] [-l <location>] [-p <proj_id>]\r\n",
      "            [--retention <time>] gs://<bucket_name>...\r\n",
      "\r\n",
      "For additional help run:\r\n",
      "  gsutil help mb\r\n"
     ]
    }
   ],
   "source": [
    "! PROJECT=$(gcloud config list project --format 'value(core.project)')\n",
    "! BUCKET=gs://${PROJECT}-aiplatform \n",
    "! REGION=asia-southeast1\n",
    "! gsutil mb -l $REGION $BUCKET"
   ]
  },
  {
   "cell_type": "code",
   "execution_count": 4,
   "id": "c539fd4b",
   "metadata": {},
   "outputs": [
    {
     "name": "stdout",
     "output_type": "stream",
     "text": [
      "/home/galen/Desktop/tensorflow1/aiplatform-intro/iris\n"
     ]
    }
   ],
   "source": [
    "%cd aiplatform-intro/iris"
   ]
  },
  {
   "cell_type": "code",
   "execution_count": 5,
   "id": "cccb78d3",
   "metadata": {},
   "outputs": [
    {
     "name": "stdout",
     "output_type": "stream",
     "text": [
      "\u001b[1;31mERROR:\u001b[0m (gcloud.ai-platform.jobs.submit.training) argument --region: expected one argument\r\n",
      "Usage: gcloud ai-platform jobs submit training JOB [optional flags] [-- USER_ARGS ...]\r\n",
      "  optional flags may be  --async | --config | --help | --job-dir | --kms-key |\r\n",
      "                         --kms-keyring | --kms-location | --kms-project |\r\n",
      "                         --labels | --master-accelerator | --master-image-uri |\r\n",
      "                         --master-machine-type | --module-name |\r\n",
      "                         --package-path | --packages |\r\n",
      "                         --parameter-server-accelerator |\r\n",
      "                         --parameter-server-count |\r\n",
      "                         --parameter-server-image-uri |\r\n",
      "                         --parameter-server-machine-type | --python-version |\r\n",
      "                         --region | --runtime-version | --scale-tier |\r\n",
      "                         --service-account | --staging-bucket | --stream-logs |\r\n",
      "                         --use-chief-in-tf-config | --worker-accelerator |\r\n",
      "                         --worker-count | --worker-image-uri |\r\n",
      "                         --worker-machine-type\r\n",
      "\r\n",
      "For detailed information on this command and its flags, run:\r\n",
      "  gcloud ai-platform jobs submit training --help\r\n"
     ]
    }
   ],
   "source": [
    "! JOB=job1\n",
    "\n",
    "#always leave space after new line (\\), else no space between arguments\n",
    "! gcloud ai-platform jobs submit training $JOB \\\n",
    " --module-name trainer.iris\\\n",
    " --package-path trainer\\\n",
    " --staging-bucket $BUCKET \\\n",
    " --region $REGION\\\n",
    " --python-version 3.7\\\n",
    " --runtime-version 2.2\\\n",
    " --job-dir $BUCKET/$JOB"
   ]
  },
  {
   "cell_type": "markdown",
   "id": "2777f03c",
   "metadata": {},
   "source": [
    "# Feature engineering"
   ]
  },
  {
   "cell_type": "code",
   "execution_count": 10,
   "id": "10f4e8a0",
   "metadata": {},
   "outputs": [
    {
     "name": "stdout",
     "output_type": "stream",
     "text": [
      "/home/galen/Desktop/tensorflow1\n"
     ]
    }
   ],
   "source": [
    "! pip3 install numpy pandas sklearn"
   ]
  },
  {
   "cell_type": "code",
   "execution_count": 21,
   "id": "6c27ff41",
   "metadata": {},
   "outputs": [
    {
     "name": "stdout",
     "output_type": "stream",
     "text": [
      "/home/galen/Desktop/tensorflow1/aiplatform-intro/pets\n"
     ]
    }
   ],
   "source": [
    "%cd /home/galen/Desktop/tensorflow1/aiplatform-intro/pets"
   ]
  },
  {
   "cell_type": "code",
   "execution_count": 14,
   "id": "b977b97c",
   "metadata": {},
   "outputs": [
    {
     "name": "stdout",
     "output_type": "stream",
     "text": [
      "7383 train examples\n",
      "1846 validation examples\n",
      "2308 test examples\n",
      "2021-06-13 07:53:57.303801: E tensorflow/stream_executor/cuda/cuda_driver.cc:313] failed call to cuInit: UNKNOWN ERROR (303)\n",
      "Epoch 1/10\n",
      "231/231 [==============================] - 3s 13ms/step - loss: 2.6059 - accuracy: 0.5152 - val_loss: 1.7089 - val_accuracy: 0.6863\n",
      "Epoch 2/10\n",
      "231/231 [==============================] - 1s 4ms/step - loss: 1.0454 - accuracy: 0.7015 - val_loss: 0.5651 - val_accuracy: 0.7096\n",
      "Epoch 3/10\n",
      "231/231 [==============================] - 1s 4ms/step - loss: 0.5587 - accuracy: 0.7253 - val_loss: 0.5309 - val_accuracy: 0.7356\n",
      "Epoch 4/10\n",
      "231/231 [==============================] - 1s 4ms/step - loss: 0.5407 - accuracy: 0.7345 - val_loss: 0.5154 - val_accuracy: 0.7470\n",
      "Epoch 5/10\n",
      "231/231 [==============================] - 1s 4ms/step - loss: 0.5300 - accuracy: 0.7372 - val_loss: 0.5110 - val_accuracy: 0.7416\n",
      "Epoch 6/10\n",
      "231/231 [==============================] - 2s 8ms/step - loss: 0.5244 - accuracy: 0.7387 - val_loss: 0.5052 - val_accuracy: 0.7519\n",
      "Epoch 7/10\n",
      "231/231 [==============================] - 2s 7ms/step - loss: 0.5203 - accuracy: 0.7427 - val_loss: 0.4996 - val_accuracy: 0.7573\n",
      "Epoch 8/10\n",
      "231/231 [==============================] - 2s 7ms/step - loss: 0.5176 - accuracy: 0.7452 - val_loss: 0.4971 - val_accuracy: 0.7595\n",
      "Epoch 9/10\n",
      "231/231 [==============================] - 1s 6ms/step - loss: 0.5154 - accuracy: 0.7496 - val_loss: 0.4940 - val_accuracy: 0.7584\n",
      "Epoch 10/10\n",
      "231/231 [==============================] - 2s 7ms/step - loss: 0.5135 - accuracy: 0.7498 - val_loss: 0.4950 - val_accuracy: 0.7579\n",
      "73/73 [==============================] - 0s 5ms/step - loss: 0.5241 - accuracy: 0.7435\n",
      "Accuracy 0.7435008883476257\n"
     ]
    }
   ],
   "source": [
    "! gcloud ai-platform local train --module-name trainer.pets --package-path trainer --job-dir export"
   ]
  },
  {
   "cell_type": "markdown",
   "id": "9247cc8b",
   "metadata": {},
   "source": [
    "- no hidden layers in code. thus just linear model, not deep model\n",
    "    - shld experiment with feature and deep neural networks to see what works well\n",
    "- embedding columns (solves one-hot column high dimensionality problems)\n",
    "- feature engineering by creating catagorical variables from numerical variables\n",
    "- bucketized columns\n",
    "- crossed-feature columns (combined)\n",
    "    - need hash_bucket to limit the number of permutations, esp if many catogries in the combined columns"
   ]
  },
  {
   "cell_type": "markdown",
   "id": "6664742f",
   "metadata": {},
   "source": [
    "# Hyperparameter tuning"
   ]
  },
  {
   "cell_type": "markdown",
   "id": "88451848",
   "metadata": {},
   "source": [
    "settings for training run, set ahead of time.\n",
    "\n",
    "eg.\n",
    "- batch size\n",
    "- hidden layers\n",
    "\n",
    "parameters are weights model learns during training.\n",
    "hyperparameters are set manually and do not change during training"
   ]
  },
  {
   "cell_type": "markdown",
   "id": "f78f0f0a",
   "metadata": {},
   "source": [
    " auto tuning by tf. \n",
    "- bayesian search method as default\n",
    "- use less hyperparameters to be efficient"
   ]
  },
  {
   "cell_type": "markdown",
   "id": "60a0d762",
   "metadata": {},
   "source": [
    "## Distributed training"
   ]
  },
  {
   "cell_type": "markdown",
   "id": "b6dec399",
   "metadata": {},
   "source": [
    "- most real-world models take too long to train on 1 machine\n",
    "- --scale-tier flag to run distributed job"
   ]
  },
  {
   "cell_type": "markdown",
   "id": "eebbe0e0",
   "metadata": {},
   "source": [
    "#### training cluster\n",
    "\n",
    "- group of VMs, each called training instance or node.\n",
    "- dependencies installed on each instance\n",
    "- when trainer script runs, each one is called replica\n",
    "- 1 of the replicas designated as master\n",
    "- some repliacs designated as workers, each running part of the job\n",
    "- some replicas dsignedated as parameter servers"
   ]
  },
  {
   "cell_type": "markdown",
   "id": "7a6708da",
   "metadata": {},
   "source": [
    "#### 2 types of distributed training\n",
    "- synchronous\n",
    "    - all workers keep copy of parameters, and parameters updated at end of every training step\n",
    "- asynchronous\n",
    "    - workers run independently and send parameter updates to parameter servers\n",
    "    \n",
    " use tf.distribute.Strategy to choose"
   ]
  },
  {
   "cell_type": "markdown",
   "id": "859dd6e3",
   "metadata": {},
   "source": [
    "## Deploy model on AIplatform"
   ]
  },
  {
   "cell_type": "markdown",
   "id": "d6aed8f4",
   "metadata": {},
   "source": [
    "- not same as tensorflow model\n",
    "- model is resource for diff versions of a trained model\n",
    "\n",
    "why version?\n",
    "- Versioning can help you ensure that you don’t break users who are dependent on a specific version of your model when you publish a new version. Depending on your use case, you can also serve different model versions to a subset of your users, for example, to run an experiment.\n",
    "\n",
    "\n",
    "https://blog.tensorflow.org/2020/04/how-to-deploy-tensorflow-2-models-on-cloud-ai-platform.html"
   ]
  },
  {
   "cell_type": "code",
   "execution_count": 19,
   "id": "d6e2dc5c",
   "metadata": {},
   "outputs": [
    {
     "data": {
      "text/plain": [
       "'/home/galen/Desktop/tensorflow1/aiplatform-intro/pets'"
      ]
     },
     "execution_count": 19,
     "metadata": {},
     "output_type": "execute_result"
    }
   ],
   "source": [
    "%pwd"
   ]
  },
  {
   "cell_type": "code",
   "execution_count": 20,
   "id": "621d66d0",
   "metadata": {},
   "outputs": [
    {
     "name": "stdout",
     "output_type": "stream",
     "text": [
      "/home/galen/Desktop/tensorflow1/aiplatform-intro/iris\n"
     ]
    }
   ],
   "source": [
    "%cd /home/galen/Desktop/tensorflow1/aiplatform-intro/iris"
   ]
  },
  {
   "cell_type": "markdown",
   "id": "2d8dfdba",
   "metadata": {},
   "source": [
    "#### create model"
   ]
  },
  {
   "cell_type": "code",
   "execution_count": 9,
   "id": "5d9f44e4",
   "metadata": {},
   "outputs": [
    {
     "name": "stdout",
     "output_type": "stream",
     "text": [
      "Using endpoint [https://ml.googleapis.com/]\n",
      "Created ai platform model [projects/stoked-aloe-316710/models/iris_model1].\n"
     ]
    }
   ],
   "source": [
    "# only regions from here  https://cloud.google.com/ai-platform/prediction/docs/regions. not same as training.\n",
    "# use us-central1 for example.\n",
    "\n",
    "# model resource name (iris) must be unique within a project\n",
    "\n",
    "! gcloud ai-platform models create iris_model1 --regions='us-central1'"
   ]
  },
  {
   "cell_type": "markdown",
   "id": "e979a00b",
   "metadata": {},
   "source": [
    "can see model in aiplatform console, with no versions. yet"
   ]
  },
  {
   "cell_type": "markdown",
   "id": "e3cb16e1",
   "metadata": {},
   "source": [
    "#### create version of the model"
   ]
  },
  {
   "cell_type": "code",
   "execution_count": 11,
   "id": "4c910b77",
   "metadata": {},
   "outputs": [
    {
     "name": "stdout",
     "output_type": "stream",
     "text": [
      "Using endpoint [https://ml.googleapis.com/]\n",
      "\u001b[1;31mERROR:\u001b[0m (gcloud.ai-platform.versions.create) FAILED_PRECONDITION: Framework can not be identified from model path.\n"
     ]
    }
   ],
   "source": [
    "# origin: where the saved_model.pb is located from prev training, which will be used to created the version\n",
    "\n",
    "! gcloud ai-platform versions create v1 \\\n",
    "  --model iris_model1 \\\n",
    "  --runtime-version 2.2 \\\n",
    "  --region global \\\n",
    "  --staging-bucket gs://stoked-aloe-316710_bucket1 \\\n",
    "  --origin gs://stoked-aloe-316710_bucket1/job1"
   ]
  },
  {
   "cell_type": "markdown",
   "id": "9ddc38c9",
   "metadata": {},
   "source": [
    "#### get online prediction"
   ]
  },
  {
   "cell_type": "markdown",
   "id": "184b7ec3",
   "metadata": {},
   "source": [
    "- get predictions quick, real-time response"
   ]
  },
  {
   "cell_type": "code",
   "execution_count": 14,
   "id": "583556e4",
   "metadata": {},
   "outputs": [
    {
     "name": "stdout",
     "output_type": "stream",
     "text": [
      "/home/galen/Desktop/tensorflow1/aiplatform-intro/iris\n"
     ]
    }
   ],
   "source": [
    "%cd /home/galen/Desktop/tensorflow1/aiplatform-intro/iris"
   ]
  },
  {
   "cell_type": "code",
   "execution_count": 16,
   "id": "6d819593",
   "metadata": {},
   "outputs": [
    {
     "name": "stdout",
     "output_type": "stream",
     "text": [
      "Using endpoint [https://ml.googleapis.com/]\n",
      "DENSE_2\n",
      "[8.927209854125977, 5.369498252868652, -7.129472732543945]\n"
     ]
    }
   ],
   "source": [
    "# json-request is the local path of test dataset: /home/galen/Desktop/tensorflow1/aiplatform-intro/iris/test.json\n",
    "# normally call predict from app that will translate scores \n",
    "\n",
    "! gcloud ai-platform predict \\\n",
    "  --model iris_model1 \\\n",
    "  --version v1 \\\n",
    "  --region global \\\n",
    "  --json-request test.json"
   ]
  },
  {
   "cell_type": "markdown",
   "id": "82a8e17b",
   "metadata": {},
   "source": [
    "#### get batch prediction"
   ]
  },
  {
   "cell_type": "markdown",
   "id": "4ae0de3d",
   "metadata": {},
   "source": [
    "- for big jobs\n",
    "- longer to startup\n",
    "- prediction files written to Cloud Storage instead of console\n",
    "- cheaper"
   ]
  },
  {
   "cell_type": "code",
   "execution_count": null,
   "id": "b0cb7c45",
   "metadata": {},
   "outputs": [],
   "source": [
    "gcloud ai-platform jobs submit prediction"
   ]
  }
 ],
 "metadata": {
  "kernelspec": {
   "display_name": "Python 3",
   "language": "python",
   "name": "python3"
  },
  "language_info": {
   "codemirror_mode": {
    "name": "ipython",
    "version": 3
   },
   "file_extension": ".py",
   "mimetype": "text/x-python",
   "name": "python",
   "nbconvert_exporter": "python",
   "pygments_lexer": "ipython3",
   "version": "3.8.5"
  }
 },
 "nbformat": 4,
 "nbformat_minor": 5
}
